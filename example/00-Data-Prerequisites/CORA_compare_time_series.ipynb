{
 "cells": [
  {
   "cell_type": "markdown",
   "id": "8d6fc216-c8ff-4124-94f1-c8284f25f8f0",
   "metadata": {
    "id": "8d6fc216-c8ff-4124-94f1-c8284f25f8f0"
   },
   "source": [
    "# This notebook pulls in data from the NOAA CO-OPS NWLON stations and pulls in CORA data at those locations from the NOAA Open Data Dissemination (NODD) and plots water level time series for comparison."
   ]
  },
  {
   "cell_type": "markdown",
   "id": "944a57f7",
   "metadata": {},
   "source": [
    "# Example\n",
    "- Time: 2022-01-01 to 2022-12-31\n",
    "- NOAA hourly\n",
    "  - Location: Battery park\n",
    "  - Station ID: 8518750\n",
    "  - type: waterlevels\n",
    "  - units metric\n",
    "- CORA\n",
    "  - Location: nearest 3 nodes Battery park\n",
    "  - Nodes: [1266675, 1266674, 1260240]\n",
    "  - MSL\n",
    "  - m"
   ]
  },
  {
   "cell_type": "markdown",
   "id": "75784115-8273-47d0-8004-6ea1e68b96dd",
   "metadata": {},
   "source": [
    "## Import your python libraries."
   ]
  },
  {
   "cell_type": "code",
   "execution_count": 1,
   "id": "973908ab-5c69-4775-ad1f-dccafc8deef0",
   "metadata": {
    "id": "973908ab-5c69-4775-ad1f-dccafc8deef0"
   },
   "outputs": [],
   "source": [
    "import requests\n",
    "import numpy as np\n",
    "import matplotlib.pyplot as plt\n",
    "import pandas as pd\n",
    "import dask\n",
    "import intake\n",
    "import xarray as xr\n",
    "import scipy.spatial as sp\n",
    "import s3fs\n",
    "# import geopy.distance\n",
    "from scipy.spatial import KDTree\n",
    "# import folium\n",
    "# from folium import Marker\n",
    "# from folium.plugins import HeatMap, MarkerCluster\n",
    "# from branca.colormap import linear, LinearColormap"
   ]
  },
  {
   "cell_type": "markdown",
   "id": "04ef0505-ce20-4f42-895d-d0f9dfab4e6f",
   "metadata": {},
   "source": [
    "**Access the data on the NODD and initialize the available CORA datasets.** \n",
    "\n",
    "*This accesses a .yml file located on the NODD that shows which CORA output files are available to import.*"
   ]
  },
  {
   "cell_type": "code",
   "execution_count": 2,
   "id": "09ee33db-10b7-4cd1-887d-7b0aaced1d04",
   "metadata": {
    "colab": {
     "base_uri": "https://localhost:8080/"
    },
    "id": "09ee33db-10b7-4cd1-887d-7b0aaced1d04",
    "outputId": "370bff26-6e85-46df-c299-13bd494dfe3e"
   },
   "outputs": [
    {
     "data": {
      "text/plain": [
       "['CORA-V1-fort.63',\n",
       " 'CORA-V1-maxele.63',\n",
       " 'CORA-V1-fort.64',\n",
       " 'CORA-V1-500m-grid-1979-2022']"
      ]
     },
     "execution_count": 2,
     "metadata": {},
     "output_type": "execute_result"
    }
   ],
   "source": [
    "# @title This accesses a .yml file located on the NODD that shows which CORA output files are available to import.\n",
    "catalog = intake.open_catalog(\"s3://noaa-nos-cora-pds/CORA_intake.yml\",storage_options={'anon':True})\n",
    "list(catalog)"
   ]
  },
  {
   "cell_type": "markdown",
   "id": "4128bcaf-6e23-46d4-b0e9-d31b38567359",
   "metadata": {
    "id": "de2ecccc-4203-41d4-8d98-4ca8369433f0"
   },
   "source": [
    "**CORA-V1.1-fort.63: Hourly water levels <br>\n",
    "CORA-V1.1-swan_DIR.63: Hourly mean wave direction <br>\n",
    "CORA-V1.1-swan_TPS.63: Hourly peak wave periods <br>\n",
    "CORA-V1.1-swan_HS.63: Hourly significant wave heights <br>\n",
    "CORA-V1.1-Grid: Hourly water levels interpolated from model nodes to uniform 500-meter resolution grid <br>\n",
    "All datasets denoted as timeseries are optimized for pulling long time series (greater than a few days) <br>\n",
    "For up to a few days of data, use the regular dataset (not labeled timeseries)**"
   ]
  },
  {
   "cell_type": "markdown",
   "id": "de2ecccc-4203-41d4-8d98-4ca8369433f0",
   "metadata": {
    "id": "de2ecccc-4203-41d4-8d98-4ca8369433f0"
   },
   "source": [
    "*Now, create an xarray dataset for the CORA data that you would like to use.*"
   ]
  },
  {
   "cell_type": "code",
   "execution_count": 3,
   "id": "f51cd6d9-b6ba-4f8d-8eb9-db5f17ebda33",
   "metadata": {
    "colab": {
     "base_uri": "https://localhost:8080/"
    },
    "id": "f51cd6d9-b6ba-4f8d-8eb9-db5f17ebda33",
    "outputId": "1bd11d46-cbdb-463f-ada8-049b357a2d97"
   },
   "outputs": [],
   "source": [
    "ds = catalog[\"CORA-V1-fort.63\"].to_dask()"
   ]
  },
  {
   "cell_type": "code",
   "execution_count": 4,
   "id": "51d296b8-2ff2-42f2-9451-1d398162c44e",
   "metadata": {},
   "outputs": [],
   "source": [
    "# stationpointsfile = 'C:\\\\Users\\\\John.Ratcliff\\\\CORA\\\\HSOFS_GEC_Stations.csv'\n",
    "# cora_stations = pd.read_csv(stationpointsfile)\n",
    "# cora_stations['id'] = cora_stations['id'].astype(str)\n",
    "# cora_stations.iloc[62]"
   ]
  },
  {
   "cell_type": "markdown",
   "id": "a5b5c70a-0c8a-4913-af79-2173318eafb2",
   "metadata": {},
   "source": [
    "**Create a dataframe of NWLON station ids and coordinates from the CO-OPS API where you want to do a comparison.**"
   ]
  },
  {
   "cell_type": "code",
   "execution_count": 5,
   "id": "wt_sKI4hvfqw",
   "metadata": {
    "colab": {
     "base_uri": "https://localhost:8080/",
     "height": 125
    },
    "id": "wt_sKI4hvfqw",
    "outputId": "35825902-eec7-47e6-a36f-aee33138a246"
   },
   "outputs": [
    {
     "data": {
      "text/html": [
       "<div>\n",
       "<style scoped>\n",
       "    .dataframe tbody tr th:only-of-type {\n",
       "        vertical-align: middle;\n",
       "    }\n",
       "\n",
       "    .dataframe tbody tr th {\n",
       "        vertical-align: top;\n",
       "    }\n",
       "\n",
       "    .dataframe thead th {\n",
       "        text-align: right;\n",
       "    }\n",
       "</style>\n",
       "<table border=\"1\" class=\"dataframe\">\n",
       "  <thead>\n",
       "    <tr style=\"text-align: right;\">\n",
       "      <th></th>\n",
       "      <th>id</th>\n",
       "      <th>lat</th>\n",
       "      <th>lng</th>\n",
       "    </tr>\n",
       "  </thead>\n",
       "  <tbody>\n",
       "    <tr>\n",
       "      <th>37</th>\n",
       "      <td>8518750</td>\n",
       "      <td>40.700554</td>\n",
       "      <td>-74.01417</td>\n",
       "    </tr>\n",
       "  </tbody>\n",
       "</table>\n",
       "</div>"
      ],
      "text/plain": [
       "         id        lat       lng\n",
       "37  8518750  40.700554 -74.01417"
      ]
     },
     "execution_count": 5,
     "metadata": {},
     "output_type": "execute_result"
    }
   ],
   "source": [
    "units= 'metric'\n",
    "\n",
    "station_type = 'waterlevels'\n",
    "\n",
    "server = 'https://api.tidesandcurrents.noaa.gov/mdapi/prod/webapi/stations/'\n",
    "\n",
    "myurl = (server + '.json?type='+station_type+'&units='+units)\n",
    "\n",
    "urlResponse = requests.get(myurl)\n",
    "content=urlResponse.json()\n",
    "\n",
    "stations = content['stations']\n",
    "stations_df = pd.DataFrame(stations)\n",
    "\n",
    "stations_df = stations_df[['id','lat','lng']]\n",
    "# station_id = ['8665530','8670870']\n",
    "station_id = ['8518750']\n",
    "\n",
    "stations_df = stations_df[stations_df['id'].isin(station_id)]\n",
    "\n",
    "stations_df"
   ]
  },
  {
   "cell_type": "markdown",
   "id": "13ed413d-13b8-415a-bc82-e43e83accab8",
   "metadata": {},
   "source": [
    "**Loop through the station list to grab water level hourly heights for each station. Create a pandas dataframe of the time series data.**"
   ]
  },
  {
   "cell_type": "code",
   "execution_count": 6,
   "id": "-jXyNgWIT8Ke",
   "metadata": {
    "colab": {
     "base_uri": "https://localhost:8080/",
     "height": 490
    },
    "id": "-jXyNgWIT8Ke",
    "outputId": "02a6e5fd-2523-440f-928f-a20be3c487bf"
   },
   "outputs": [
    {
     "name": "stdout",
     "output_type": "stream",
     "text": [
      "https://api.tidesandcurrents.noaa.gov/api/prod/datagetter?begin_date=20220101&end_date=20221231&station=8518750&product=hourly_height&datum=MSL&time_zone=gmt&units=metric&format=json\n"
     ]
    },
    {
     "data": {
      "text/html": [
       "<div>\n",
       "<style scoped>\n",
       "    .dataframe tbody tr th:only-of-type {\n",
       "        vertical-align: middle;\n",
       "    }\n",
       "\n",
       "    .dataframe tbody tr th {\n",
       "        vertical-align: top;\n",
       "    }\n",
       "\n",
       "    .dataframe thead th {\n",
       "        text-align: right;\n",
       "    }\n",
       "</style>\n",
       "<table border=\"1\" class=\"dataframe\">\n",
       "  <thead>\n",
       "    <tr style=\"text-align: right;\">\n",
       "      <th></th>\n",
       "      <th>height_8518750</th>\n",
       "    </tr>\n",
       "    <tr>\n",
       "      <th>time</th>\n",
       "      <th></th>\n",
       "    </tr>\n",
       "  </thead>\n",
       "  <tbody>\n",
       "    <tr>\n",
       "      <th>2022-01-01 00:00</th>\n",
       "      <td>0.839</td>\n",
       "    </tr>\n",
       "    <tr>\n",
       "      <th>2022-01-01 01:00</th>\n",
       "      <td>0.521</td>\n",
       "    </tr>\n",
       "    <tr>\n",
       "      <th>2022-01-01 02:00</th>\n",
       "      <td>0.143</td>\n",
       "    </tr>\n",
       "    <tr>\n",
       "      <th>2022-01-01 03:00</th>\n",
       "      <td>-0.203</td>\n",
       "    </tr>\n",
       "    <tr>\n",
       "      <th>2022-01-01 04:00</th>\n",
       "      <td>-0.446</td>\n",
       "    </tr>\n",
       "    <tr>\n",
       "      <th>...</th>\n",
       "      <td>...</td>\n",
       "    </tr>\n",
       "    <tr>\n",
       "      <th>2022-12-31 19:00</th>\n",
       "      <td>0.520</td>\n",
       "    </tr>\n",
       "    <tr>\n",
       "      <th>2022-12-31 20:00</th>\n",
       "      <td>0.655</td>\n",
       "    </tr>\n",
       "    <tr>\n",
       "      <th>2022-12-31 21:00</th>\n",
       "      <td>0.588</td>\n",
       "    </tr>\n",
       "    <tr>\n",
       "      <th>2022-12-31 22:00</th>\n",
       "      <td>0.392</td>\n",
       "    </tr>\n",
       "    <tr>\n",
       "      <th>2022-12-31 23:00</th>\n",
       "      <td>0.120</td>\n",
       "    </tr>\n",
       "  </tbody>\n",
       "</table>\n",
       "<p>8760 rows × 1 columns</p>\n",
       "</div>"
      ],
      "text/plain": [
       "                  height_8518750\n",
       "time                            \n",
       "2022-01-01 00:00           0.839\n",
       "2022-01-01 01:00           0.521\n",
       "2022-01-01 02:00           0.143\n",
       "2022-01-01 03:00          -0.203\n",
       "2022-01-01 04:00          -0.446\n",
       "...                          ...\n",
       "2022-12-31 19:00           0.520\n",
       "2022-12-31 20:00           0.655\n",
       "2022-12-31 21:00           0.588\n",
       "2022-12-31 22:00           0.392\n",
       "2022-12-31 23:00           0.120\n",
       "\n",
       "[8760 rows x 1 columns]"
      ]
     },
     "execution_count": 6,
     "metadata": {},
     "output_type": "execute_result"
    }
   ],
   "source": [
    "dataserver = 'https://api.tidesandcurrents.noaa.gov/api/prod/datagetter?'\n",
    "startend = 'begin_date=20220101&end_date=20221231&'\n",
    "product = 'product=hourly_height&'\n",
    "datum = 'datum=MSL&'\n",
    "time_zone = 'time_zone=gmt&'\n",
    "units = 'units=metric&'\n",
    "format = 'format=json'\n",
    "\n",
    "for i in range(0,len(stations_df)):\n",
    "\n",
    "  station = 'station=' + stations_df.id.iloc[i] + '&'\n",
    "  dataurl = dataserver + startend + station + product + datum + time_zone + units + format\n",
    "  print(dataurl)\n",
    "  urlResponse = requests.get(dataurl)\n",
    "  content=urlResponse.json()\n",
    "\n",
    "  # The API returns a list of dictionaries, each with scalar values.\n",
    "  # We need to convert this structure into a list of lists or a list of dictionaries with list values\n",
    "  # before creating a DataFrame.\n",
    "\n",
    "  # Extracting data for 'time' and 'height'\n",
    "  time_data = [d['t'] for d in content['data']]\n",
    "  height_data = [d['v'] for d in content['data']]\n",
    "\n",
    "  # Convert height_data to numeric using a list comprehension\n",
    "  height_data = [float(x) for x in height_data]\n",
    "\n",
    "  # Creating DataFrame if it's the first iteration\n",
    "  if i == 0:\n",
    "      df = pd.DataFrame({'time': time_data, 'height_' + stations_df.id.iloc[i]: height_data})\n",
    "  # Appending 'height' data to existing DataFrame for subsequent iterations\n",
    "  else:\n",
    "      df['height_' + stations_df.id.iloc[i]] = height_data  # Append new height column\n",
    "df.set_index('time', inplace=True)\n",
    "df\n"
   ]
  },
  {
   "cell_type": "code",
   "execution_count": 7,
   "id": "c79bfccf-658f-4f56-b934-651829b56023",
   "metadata": {},
   "outputs": [],
   "source": [
    "def area(x1, y1, x2, y2, x3, y3):\n",
    " \n",
    "    return (abs((x1 * (y2 - y3) + x2 * (y3 - y1)\n",
    "                + x3 * (y1 - y2)) / 2.0))"
   ]
  },
  {
   "cell_type": "code",
   "execution_count": 8,
   "id": "e5467427-92ac-4dcb-8b25-02153fc4e48e",
   "metadata": {},
   "outputs": [],
   "source": [
    "def define_kd_tree(ds):\n",
    "    e = ds.element.values.astype(int)\n",
    "    emin1 = e-1\n",
    "    num_elems = len(e)\n",
    "    x_vals = ds.x.values\n",
    "    y_vals = ds.y.values\n",
    "\n",
    "    xe=np.mean(x_vals[emin1],axis=1)\n",
    "    ye=np.mean(y_vals[emin1],axis=1)\n",
    "    tree = sp.KDTree(np.c_[xe,ye])\n",
    "    areas = [area(x_vals[emin1[k][0]],y_vals[emin1[k][0]],\\\n",
    "                  x_vals[emin1[k][1]],y_vals[emin1[k][1]],\\\n",
    "                  x_vals[emin1[k][2]],y_vals[emin1[k][2]])for k in range(0, num_elems)]\n",
    "    return tree, areas, e, x_vals, y_vals"
   ]
  },
  {
   "cell_type": "code",
   "execution_count": 9,
   "id": "05737cbb-3a4b-4336-b40c-e517c6097e26",
   "metadata": {},
   "outputs": [],
   "source": [
    "def find_triangle(x_vals, y_vals, e,lat,lon):\n",
    "    e = ds.element.values.astype(int)-1\n",
    "    \n",
    "    k = 10\n",
    "    dist, ii = tree.query([lon,lat],k=k)\n",
    "    ii = ii\n",
    "    triangle_i = -1\n",
    "\n",
    "    for i in range(0,k):\n",
    "\n",
    "      a1 = area(lon,lat,\\\n",
    "                x_vals[e[ii[i]][0]],y_vals[e[ii[i]][0]],\\\n",
    "                x_vals[e[ii[i]][1]],y_vals[e[ii[i]][1]])\n",
    "\n",
    "      a2 = area(lon,lat,\\\n",
    "                x_vals[e[ii[i]][1]],y_vals[e[ii[i]][1]],\\\n",
    "                x_vals[e[ii[i]][2]],y_vals[e[ii[i]][2]])\n",
    "      a3 = area(lon,lat,\\\n",
    "                x_vals[e[ii[i]][0]],y_vals[e[ii][i][0]],\\\n",
    "                x_vals[e[ii[i]][2]],y_vals[e[ii][i][2]])\n",
    "\n",
    "      t_area = a1 + a2 + a3\n",
    "      if abs(t_area - areas[ii[i]]) < 0.00000001:\n",
    "        triangle_i = ii[i]+1\n",
    "        break\n",
    "    if(triangle_i == -1):\n",
    "        print(\"ERROR for \" ,lat,lon)\n",
    "    return triangle_i"
   ]
  },
  {
   "cell_type": "code",
   "execution_count": 10,
   "id": "3d1c69af-8bf3-450f-abe1-02b52ea217ec",
   "metadata": {},
   "outputs": [],
   "source": [
    "tree, areas, e, x_vals, y_vals = define_kd_tree(ds)  "
   ]
  },
  {
   "cell_type": "code",
   "execution_count": 11,
   "id": "31d166da-74e9-40da-bbc5-d2ac94aab026",
   "metadata": {
    "colab": {
     "base_uri": "https://localhost:8080/"
    },
    "id": "0GeIfkfN4ZQ8",
    "outputId": "97e1cc0c-cff5-4b06-c17d-3e02232d3e85"
   },
   "outputs": [],
   "source": [
    "# Extract node coordinates from the mesh\n",
    "\n",
    "node_coords = np.c_[ds.x.values, ds.y.values]\n",
    "\n",
    "kdtree = KDTree(node_coords) # Build the kdtree that can be queried for nearest neighbor nodes to a geographic point\n",
    "\n",
    "# Initialize\n",
    "elem = np.zeros((len(stations_df), 1), dtype=int)\n",
    "elem_nodes = np.zeros((len(stations_df), 3), dtype=int)\n",
    "query_point = np.zeros((len(stations_df), 2))  # Assuming you want 2 columns for lat and lon\n",
    "distances = np.zeros((len(stations_df), 3))    # Assuming you want 3 nearest neighbors\n",
    "nearest = np.zeros((len(stations_df), 3), dtype=int)  # Assuming you want 3 nearest neighbors\n",
    "dist = np.zeros((len(stations_df), 3), dtype=float)\n",
    "weights = np.zeros((len(stations_df), 3), dtype=float)\n",
    "\n",
    "for i in range(0,len(stations_df)):\n",
    "\n",
    "    elem[i,:] = find_triangle(x_vals,y_vals,e,stations_df.lat.iloc[i],stations_df.lng.iloc[i])\n",
    "    distances[i,:], nearest[i,:] = kdtree.query([stations_df.lng.iloc[i],stations_df.lat.iloc[i]], k=3)\n",
    "    nearest[i,:] = nearest[i,:] + 1\n",
    "    \n",
    "    if elem[i]==-1:\n",
    "        elem_nodes[i,:] = nearest[i,:]\n",
    "    else:\n",
    "        elem_nodes[i,:] = e[elem[i]-1]\n",
    "\n",
    "    x_dist = stations_df.lng.iloc[i] - x_vals[elem_nodes[i,:]]\n",
    "    y_dist = stations_df.lat.iloc[i] - y_vals[elem_nodes[i,:]]\n",
    "    dist[i,:] = np.sqrt(x_dist * x_dist + y_dist * y_dist)\n",
    "    \n",
    "    if np.any(dist[i,:] ==0):\n",
    "        weights[i,:] = np.where(dist[i,:] == 0, 1, 0)\n",
    "    else:\n",
    "        weights[i,:] = 1/dask.array.sqrt(x_dist * x_dist + y_dist * y_dist)\n",
    "\n",
    "unique_nodes = np.unique(elem_nodes) # sorted unique nodes\n",
    "mapped_triangle = np.searchsorted(unique_nodes, elem_nodes) # indices of the nodes\n"
   ]
  },
  {
   "cell_type": "code",
   "execution_count": 12,
   "id": "2a5d1341-e044-48e7-b896-376a0e60a958",
   "metadata": {},
   "outputs": [
    {
     "data": {
      "text/plain": [
       "array([[1266675, 1266674, 1260240]])"
      ]
     },
     "execution_count": 12,
     "metadata": {},
     "output_type": "execute_result"
    }
   ],
   "source": [
    "unique_nodes[mapped_triangle]"
   ]
  },
  {
   "cell_type": "code",
   "execution_count": 13,
   "id": "dfef1688-5a92-4623-a102-982409432e0f",
   "metadata": {},
   "outputs": [
    {
     "data": {
      "text/html": [
       "<div>\n",
       "<style scoped>\n",
       "    .dataframe tbody tr th:only-of-type {\n",
       "        vertical-align: middle;\n",
       "    }\n",
       "\n",
       "    .dataframe tbody tr th {\n",
       "        vertical-align: top;\n",
       "    }\n",
       "\n",
       "    .dataframe thead th {\n",
       "        text-align: right;\n",
       "    }\n",
       "</style>\n",
       "<table border=\"1\" class=\"dataframe\">\n",
       "  <thead>\n",
       "    <tr style=\"text-align: right;\">\n",
       "      <th></th>\n",
       "      <th>Lon</th>\n",
       "      <th>Lat</th>\n",
       "    </tr>\n",
       "  </thead>\n",
       "  <tbody>\n",
       "    <tr>\n",
       "      <th>0</th>\n",
       "      <td>-74.017496</td>\n",
       "      <td>40.700781</td>\n",
       "    </tr>\n",
       "    <tr>\n",
       "      <th>1</th>\n",
       "      <td>-74.012954</td>\n",
       "      <td>40.699410</td>\n",
       "    </tr>\n",
       "    <tr>\n",
       "      <th>2</th>\n",
       "      <td>-74.014863</td>\n",
       "      <td>40.704047</td>\n",
       "    </tr>\n",
       "  </tbody>\n",
       "</table>\n",
       "</div>"
      ],
      "text/plain": [
       "         Lon        Lat\n",
       "0 -74.017496  40.700781\n",
       "1 -74.012954  40.699410\n",
       "2 -74.014863  40.704047"
      ]
     },
     "execution_count": 13,
     "metadata": {},
     "output_type": "execute_result"
    }
   ],
   "source": [
    "concat_nodes=np.concatenate(node_coords[elem_nodes-1], axis=0)\n",
    "lat_nodes=concat_nodes[:,1]\n",
    "lon_nodes=concat_nodes[:,0]\n",
    "\n",
    "df_nodes=pd.DataFrame({'Lon': lon_nodes, 'Lat': lat_nodes})\n",
    "df_nodes"
   ]
  },
  {
   "cell_type": "code",
   "execution_count": 14,
   "id": "2f37d6c9-0dd0-4271-9a5b-effbf5c3446c",
   "metadata": {},
   "outputs": [],
   "source": [
    "# # Create a base map centered on the first coordinate\n",
    "# map_center = [stations_df['lat'].iloc[0], stations_df['lng'].iloc[0]]\n",
    "# my_map = folium.Map(location=map_center, zoom_start=8)\n",
    "\n",
    "# # Add markers for each coordinate\n",
    "# for index, row in df_nodes.iterrows():\n",
    "#     folium.CircleMarker(\n",
    "#         location=[row['Lat'], row['Lon']],\n",
    "#     ).add_to(my_map)\n",
    "\n",
    "# for index, row in stations_df.iterrows():\n",
    "#     folium.CircleMarker(\n",
    "#         location=[row['lat'], row['lng']],\n",
    "#         popup=row['id'], color='red'\n",
    "#     ).add_to(my_map)\n",
    "\n",
    "# tile = folium.TileLayer(\n",
    "#         tiles = 'https://server.arcgisonline.com/ArcGIS/rest/services/World_Imagery/MapServer/tile/{z}/{y}/{x}',\n",
    "#         attr = 'Esri',\n",
    "#         name = 'Esri Satellite',\n",
    "#         overlay = False,\n",
    "#         control = True\n",
    "#        ).add_to(my_map)\n",
    "\n",
    "# # Save the map to an HTML file\n",
    "# # my_map.save(\"nodesmap.html\")\n",
    "\n",
    "# my_map"
   ]
  },
  {
   "cell_type": "markdown",
   "id": "795ebcff-c865-4b88-b8eb-eb06def60374",
   "metadata": {},
   "source": [
    "**Average the water levels at the 3 nodes of the element containing the station coordinates for the selected time period. Append these CORA values as new columns to the dataframe.**"
   ]
  },
  {
   "cell_type": "code",
   "execution_count": null,
   "id": "5mLkwjTrTtK9",
   "metadata": {
    "colab": {
     "base_uri": "https://localhost:8080/",
     "height": 490
    },
    "id": "5mLkwjTrTtK9",
    "outputId": "40895ce6-9bb8-4d6a-8219-328ef3f204a9"
   },
   "outputs": [],
   "source": [
    "%%time\n",
    "\n",
    "start_t = \"2022-01-01 00:00:00\"\n",
    "end_t = \"2022-12-31 23:00:00\"\n",
    "dt_range=pd.date_range(start_t, end_t, freq='h',inclusive='both')\n",
    "\n",
    "num_ts = len(dt_range) # number of time samples\n",
    "t = np.zeros((num_ts, 3), dtype=float) # preallocate with zeros\n",
    "zeta_point = np.zeros((num_ts), dtype=float) # preallocate with zeros\n",
    "mean_zeta = np.zeros((num_ts,len(stations_df)), dtype=float)\n",
    "\n",
    "for i in range(0,len(stations_df)):\n",
    "    zeta_tslice = ds[\"zeta\"].sel(time=slice(start_t, end_t), node=unique_nodes[mapped_triangle[i]]-1).compute()\n",
    "    t = zeta_tslice.values * weights[i]\n",
    "    zeta_point = np.sum(t, axis=1) / np.sum(weights[i])\n",
    "    mean_zeta_i = np.nanmean(zeta_tslice.values, axis=1)\n",
    "\n",
    "    zeta_point[np.isnan(zeta_point)] = mean_zeta_i[np.isnan(zeta_point)]\n",
    "    \n",
    "    df['cora_'+stations_df.iloc[i,0]] = zeta_point\n"
   ]
  },
  {
   "cell_type": "code",
   "execution_count": null,
   "id": "ec180e6d",
   "metadata": {},
   "outputs": [
    {
     "data": {
      "text/html": [
       "<div>\n",
       "<style scoped>\n",
       "    .dataframe tbody tr th:only-of-type {\n",
       "        vertical-align: middle;\n",
       "    }\n",
       "\n",
       "    .dataframe tbody tr th {\n",
       "        vertical-align: top;\n",
       "    }\n",
       "\n",
       "    .dataframe thead th {\n",
       "        text-align: right;\n",
       "    }\n",
       "</style>\n",
       "<table border=\"1\" class=\"dataframe\">\n",
       "  <thead>\n",
       "    <tr style=\"text-align: right;\">\n",
       "      <th></th>\n",
       "      <th>time</th>\n",
       "      <th>height_8518750</th>\n",
       "      <th>cora_8518750</th>\n",
       "    </tr>\n",
       "  </thead>\n",
       "  <tbody>\n",
       "    <tr>\n",
       "      <th>0</th>\n",
       "      <td>2022-01-01 00:00</td>\n",
       "      <td>0.839</td>\n",
       "      <td>0.753624</td>\n",
       "    </tr>\n",
       "    <tr>\n",
       "      <th>1</th>\n",
       "      <td>2022-01-01 01:00</td>\n",
       "      <td>0.521</td>\n",
       "      <td>0.472556</td>\n",
       "    </tr>\n",
       "    <tr>\n",
       "      <th>2</th>\n",
       "      <td>2022-01-01 02:00</td>\n",
       "      <td>0.143</td>\n",
       "      <td>0.102508</td>\n",
       "    </tr>\n",
       "    <tr>\n",
       "      <th>3</th>\n",
       "      <td>2022-01-01 03:00</td>\n",
       "      <td>-0.203</td>\n",
       "      <td>-0.190965</td>\n",
       "    </tr>\n",
       "    <tr>\n",
       "      <th>4</th>\n",
       "      <td>2022-01-01 04:00</td>\n",
       "      <td>-0.446</td>\n",
       "      <td>-0.448162</td>\n",
       "    </tr>\n",
       "    <tr>\n",
       "      <th>...</th>\n",
       "      <td>...</td>\n",
       "      <td>...</td>\n",
       "      <td>...</td>\n",
       "    </tr>\n",
       "    <tr>\n",
       "      <th>8755</th>\n",
       "      <td>2022-12-31 19:00</td>\n",
       "      <td>0.520</td>\n",
       "      <td>0.655441</td>\n",
       "    </tr>\n",
       "    <tr>\n",
       "      <th>8756</th>\n",
       "      <td>2022-12-31 20:00</td>\n",
       "      <td>0.655</td>\n",
       "      <td>0.721653</td>\n",
       "    </tr>\n",
       "    <tr>\n",
       "      <th>8757</th>\n",
       "      <td>2022-12-31 21:00</td>\n",
       "      <td>0.588</td>\n",
       "      <td>0.563636</td>\n",
       "    </tr>\n",
       "    <tr>\n",
       "      <th>8758</th>\n",
       "      <td>2022-12-31 22:00</td>\n",
       "      <td>0.392</td>\n",
       "      <td>0.384998</td>\n",
       "    </tr>\n",
       "    <tr>\n",
       "      <th>8759</th>\n",
       "      <td>2022-12-31 23:00</td>\n",
       "      <td>0.120</td>\n",
       "      <td>0.126426</td>\n",
       "    </tr>\n",
       "  </tbody>\n",
       "</table>\n",
       "<p>8760 rows × 3 columns</p>\n",
       "</div>"
      ],
      "text/plain": [
       "                  time  height_8518750  cora_8518750\n",
       "0     2022-01-01 00:00           0.839      0.753624\n",
       "1     2022-01-01 01:00           0.521      0.472556\n",
       "2     2022-01-01 02:00           0.143      0.102508\n",
       "3     2022-01-01 03:00          -0.203     -0.190965\n",
       "4     2022-01-01 04:00          -0.446     -0.448162\n",
       "...                ...             ...           ...\n",
       "8755  2022-12-31 19:00           0.520      0.655441\n",
       "8756  2022-12-31 20:00           0.655      0.721653\n",
       "8757  2022-12-31 21:00           0.588      0.563636\n",
       "8758  2022-12-31 22:00           0.392      0.384998\n",
       "8759  2022-12-31 23:00           0.120      0.126426\n",
       "\n",
       "[8760 rows x 3 columns]"
      ]
     },
     "execution_count": 30,
     "metadata": {},
     "output_type": "execute_result"
    }
   ],
   "source": [
    "df_combined = df.reset_index()[['time', 'height_8518750', 'cora_8518750']]\n",
    "df_combined"
   ]
  },
  {
   "cell_type": "markdown",
   "id": "a6b692a4-f2fb-4b54-b611-92706cefe2a5",
   "metadata": {},
   "source": [
    "**Plot the time series data for the NWLON observations and CORA for comparison.**"
   ]
  },
  {
   "cell_type": "code",
   "execution_count": null,
   "id": "RoWce5cCwoX6",
   "metadata": {
    "colab": {
     "base_uri": "https://localhost:8080/",
     "height": 957
    },
    "id": "RoWce5cCwoX6",
    "outputId": "a992630f-012e-44bc-b60f-c2c19095c233"
   },
   "outputs": [
    {
     "data": {
      "image/png": "[encoded data removed]",
      "text/plain": [
       "<Figure size 640x480 with 1 Axes>"
      ]
     },
     "metadata": {},
     "output_type": "display_data"
    }
   ],
   "source": [
    "title = \"Hourly Water Levels\"\n",
    "ylabel = \"MSL, m\"\n",
    "# num_plots = min(zeta_df.shape[1], len(stations_df))\n",
    "for i in range(0,len(stations_df)):\n",
    "  df[['height_'+stations_df.id.iloc[i],'cora_'+stations_df.iloc[i,0]]].plot()\n",
    "\n",
    "  plt.title(title)\n",
    "  plt.xlabel('')\n",
    "  plt.ylabel(ylabel)\n",
    "  plt.xticks(rotation=90)\n",
    "  plt.tight_layout()\n",
    "plt.show()"
   ]
  },
  {
   "cell_type": "code",
   "execution_count": null,
   "id": "d2c5f8fc",
   "metadata": {},
   "outputs": [
    {
     "name": "stderr",
     "output_type": "stream",
     "text": [
      "/tmp/ipykernel_5535/1807194503.py:2: SettingWithCopyWarning: \n",
      "A value is trying to be set on a copy of a slice from a DataFrame\n",
      "\n",
      "See the caveats in the documentation: https://pandas.pydata.org/pandas-docs/stable/user_guide/indexing.html#returning-a-view-versus-a-copy\n",
      "  cora_df.rename(columns={'time': 'date', 'cora_8518750': 'WaterLevel'}, inplace=True)\n"
     ]
    },
    {
     "data": {
      "text/html": [
       "<div>\n",
       "<style scoped>\n",
       "    .dataframe tbody tr th:only-of-type {\n",
       "        vertical-align: middle;\n",
       "    }\n",
       "\n",
       "    .dataframe tbody tr th {\n",
       "        vertical-align: top;\n",
       "    }\n",
       "\n",
       "    .dataframe thead th {\n",
       "        text-align: right;\n",
       "    }\n",
       "</style>\n",
       "<table border=\"1\" class=\"dataframe\">\n",
       "  <thead>\n",
       "    <tr style=\"text-align: right;\">\n",
       "      <th></th>\n",
       "      <th>date</th>\n",
       "      <th>WaterLevel</th>\n",
       "    </tr>\n",
       "  </thead>\n",
       "  <tbody>\n",
       "    <tr>\n",
       "      <th>0</th>\n",
       "      <td>2022-01-01 00:00</td>\n",
       "      <td>0.753624</td>\n",
       "    </tr>\n",
       "    <tr>\n",
       "      <th>1</th>\n",
       "      <td>2022-01-01 01:00</td>\n",
       "      <td>0.472556</td>\n",
       "    </tr>\n",
       "    <tr>\n",
       "      <th>2</th>\n",
       "      <td>2022-01-01 02:00</td>\n",
       "      <td>0.102508</td>\n",
       "    </tr>\n",
       "    <tr>\n",
       "      <th>3</th>\n",
       "      <td>2022-01-01 03:00</td>\n",
       "      <td>-0.190965</td>\n",
       "    </tr>\n",
       "    <tr>\n",
       "      <th>4</th>\n",
       "      <td>2022-01-01 04:00</td>\n",
       "      <td>-0.448162</td>\n",
       "    </tr>\n",
       "    <tr>\n",
       "      <th>...</th>\n",
       "      <td>...</td>\n",
       "      <td>...</td>\n",
       "    </tr>\n",
       "    <tr>\n",
       "      <th>8755</th>\n",
       "      <td>2022-12-31 19:00</td>\n",
       "      <td>0.655441</td>\n",
       "    </tr>\n",
       "    <tr>\n",
       "      <th>8756</th>\n",
       "      <td>2022-12-31 20:00</td>\n",
       "      <td>0.721653</td>\n",
       "    </tr>\n",
       "    <tr>\n",
       "      <th>8757</th>\n",
       "      <td>2022-12-31 21:00</td>\n",
       "      <td>0.563636</td>\n",
       "    </tr>\n",
       "    <tr>\n",
       "      <th>8758</th>\n",
       "      <td>2022-12-31 22:00</td>\n",
       "      <td>0.384998</td>\n",
       "    </tr>\n",
       "    <tr>\n",
       "      <th>8759</th>\n",
       "      <td>2022-12-31 23:00</td>\n",
       "      <td>0.126426</td>\n",
       "    </tr>\n",
       "  </tbody>\n",
       "</table>\n",
       "<p>8760 rows × 2 columns</p>\n",
       "</div>"
      ],
      "text/plain": [
       "                  date  WaterLevel\n",
       "0     2022-01-01 00:00    0.753624\n",
       "1     2022-01-01 01:00    0.472556\n",
       "2     2022-01-01 02:00    0.102508\n",
       "3     2022-01-01 03:00   -0.190965\n",
       "4     2022-01-01 04:00   -0.448162\n",
       "...                ...         ...\n",
       "8755  2022-12-31 19:00    0.655441\n",
       "8756  2022-12-31 20:00    0.721653\n",
       "8757  2022-12-31 21:00    0.563636\n",
       "8758  2022-12-31 22:00    0.384998\n",
       "8759  2022-12-31 23:00    0.126426\n",
       "\n",
       "[8760 rows x 2 columns]"
      ]
     },
     "execution_count": 42,
     "metadata": {},
     "output_type": "execute_result"
    }
   ],
   "source": [
    "cora_df = df_combined[['time', 'cora_8518750']]\n",
    "cora_df.rename(columns={'time': 'date', 'cora_8518750': 'WaterLevel'}, inplace=True)\n",
    "cora_df"
   ]
  },
  {
   "cell_type": "code",
   "execution_count": null,
   "id": "4250b915",
   "metadata": {},
   "outputs": [
    {
     "name": "stdout",
     "output_type": "stream",
     "text": [
      "object\n",
      "datetime64[ns]\n"
     ]
    },
    {
     "name": "stderr",
     "output_type": "stream",
     "text": [
      "/tmp/ipykernel_5535/757979058.py:4: UserWarning: The argument 'infer_datetime_format' is deprecated and will be removed in a future version. A strict version of it is now the default, see https://pandas.pydata.org/pdeps/0004-consistent-to-datetime-parsing.html. You can safely remove this argument.\n",
      "  cora_df['date'] = pd.to_datetime(cora_df['date'], infer_datetime_format=True)\n",
      "/tmp/ipykernel_5535/757979058.py:4: SettingWithCopyWarning: \n",
      "A value is trying to be set on a copy of a slice from a DataFrame.\n",
      "Try using .loc[row_indexer,col_indexer] = value instead\n",
      "\n",
      "See the caveats in the documentation: https://pandas.pydata.org/pandas-docs/stable/user_guide/indexing.html#returning-a-view-versus-a-copy\n",
      "  cora_df['date'] = pd.to_datetime(cora_df['date'], infer_datetime_format=True)\n"
     ]
    }
   ],
   "source": [
    "# Check the data type of the 'Date' column\n",
    "print(cora_df['date'].dtype)\n",
    "\n",
    "cora_df['date'] = pd.to_datetime(cora_df['date'], infer_datetime_format=True)\n",
    "\n",
    "print(cora_df['date'].dtype)\n",
    "# # Convert to datetime64 if necessary\n",
    "# if cora_df['date'].dtype != 'datetime64[ns]':\n",
    "#     cora_df['date'] = pd.to_datetime(cora_df['date'], infer_datetime_format=True)\n",
    "\n",
    "# # Verify the conversion\n",
    "# print(cora_df['date'].dtype)"
   ]
  },
  {
   "cell_type": "code",
   "execution_count": null,
   "id": "3ae4c1b5",
   "metadata": {},
   "outputs": [],
   "source": [
    "# cora_ds = cora_df.set_index('date').to_xarray()\n",
    "# cora_ds.to_netcdf(\"/home/yl0815/ML-ADCIRC-0213/data/time_series/8518750.nc\")"
   ]
  },
  {
   "cell_type": "code",
   "execution_count": null,
   "id": "b6ba0c3b",
   "metadata": {},
   "outputs": [],
   "source": [
    "# cora_df.to_csv(\"cora_8518750.txt\",index=False, header=[\"Date\", \"Water Level\"], encoding=\"utf-8\")\n",
    "\n",
    "# /home/yl0815/ML-ADCIRC-0213/data"
   ]
  }
 ],
 "metadata": {
  "colab": {
   "provenance": []
  },
  "kernelspec": {
   "display_name": "ml-adcirc-0213",
   "language": "python",
   "name": "python3"
  },
  "language_info": {
   "codemirror_mode": {
    "name": "ipython",
    "version": 3
   },
   "file_extension": ".py",
   "mimetype": "text/x-python",
   "name": "python",
   "nbconvert_exporter": "python",
   "pygments_lexer": "ipython3",
   "version": "3.10.16"
  }
 },
 "nbformat": 4,
 "nbformat_minor": 5
}
